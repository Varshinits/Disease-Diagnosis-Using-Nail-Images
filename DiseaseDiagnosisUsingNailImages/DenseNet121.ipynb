{
 "cells": [
  {
   "cell_type": "code",
   "execution_count": 1,
   "metadata": {},
   "outputs": [],
   "source": [
    "from tensorflow.keras.applications import DenseNet121\n",
    "from tensorflow.keras.layers import Dense, GlobalAveragePooling2D\n",
    "from tensorflow.keras.models import Model"
   ]
  },
  {
   "cell_type": "code",
   "execution_count": 2,
   "metadata": {},
   "outputs": [],
   "source": [
    "from tensorflow.keras.preprocessing import image\n",
    "from tensorflow.keras.preprocessing.image import ImageDataGenerator, load_img"
   ]
  },
  {
   "cell_type": "code",
   "execution_count": 3,
   "metadata": {},
   "outputs": [],
   "source": [
    "#Build the CNN Model \n",
    "from tensorflow.keras.layers import Convolution2D,MaxPooling2D,Flatten,Reshape\n",
    "from tensorflow.keras.models import Sequential\n",
    "from tensorflow.keras.layers import BatchNormalization, Dropout"
   ]
  },
  {
   "cell_type": "code",
   "execution_count": 4,
   "metadata": {},
   "outputs": [],
   "source": [
    "train_gen = ImageDataGenerator(rescale=(1./255),horizontal_flip=True,shear_range=0.2) \n",
    "test_gen = ImageDataGenerator(rescale=(1./255))"
   ]
  },
  {
   "cell_type": "code",
   "execution_count": 5,
   "metadata": {},
   "outputs": [
    {
     "name": "stdout",
     "output_type": "stream",
     "text": [
      "Found 655 images belonging to 17 classes.\n",
      "Found 183 images belonging to 17 classes.\n"
     ]
    }
   ],
   "source": [
    "#passing a value using another variables\n",
    "train = train_gen.flow_from_directory('Dataset(original)/Train',\n",
    "                                      target_size=(224,224),\n",
    "                                      class_mode='categorical',\n",
    "                                      batch_size=8)\n",
    "\n",
    "test = test_gen.flow_from_directory('Dataset(original)/test',\n",
    "                                    target_size=(224,224),\n",
    "                                    class_mode='categorical',\n",
    "                                    batch_size=8)"
   ]
  },
  {
   "cell_type": "code",
   "execution_count": 6,
   "metadata": {},
   "outputs": [],
   "source": [
    "# Load the pre-trained DenseNet121 model without the top/fully-connected layers\n",
    "densenet = DenseNet121(weights='imagenet', include_top=False, input_shape=(224, 224, 3))"
   ]
  },
  {
   "cell_type": "code",
   "execution_count": 34,
   "metadata": {},
   "outputs": [],
   "source": [
    "'''# Set DenseNet121 layers as non-trainable\n",
    "for layer in densenet.layers:\n",
    "    layer.trainable = False\n",
    "\n",
    "x = densenet.output\n",
    "x = GlobalAveragePooling2D()(x)\n",
    "\n",
    "# Build the combined model\n",
    "cm_DN_CNN = Dense(40, activation='relu')(x)\n",
    "cm_DN_CNN = Dense(80, activation='relu')(x)\n",
    "cm_DN_CNN = Dense(160, activation='relu')(x)\n",
    "cm_DN_CNN = Dense(80, activation='relu')(x)\n",
    "cm_DN_CNN = Dense(18, activation='softmax')(x)'''"
   ]
  },
  {
   "cell_type": "code",
   "execution_count": 7,
   "metadata": {},
   "outputs": [],
   "source": [
    "# Set DenseNet121 layers as non-trainable\n",
    "for layer in densenet.layers:\n",
    "    layer.trainable = False\n",
    "\n",
    "x = densenet.output\n",
    "\n",
    "x = Convolution2D(50, (3, 3), activation='relu', padding='same')(x)\n",
    "x = GlobalAveragePooling2D()(x)\n",
    "x = Flatten()(x)\n",
    "\n",
    "# Build the combined model\n",
    "output = Dense(80, activation='relu')(x)\n",
    "output = Dense(160, activation='relu')(output)\n",
    "output = Dense(320, activation='relu')(output)\n",
    "output = Dense(160, activation='relu')(output)\n",
    "output = Dense(17, activation='softmax')(output)"
   ]
  },
  {
   "cell_type": "code",
   "execution_count": 8,
   "metadata": {},
   "outputs": [],
   "source": [
    "model = Model(inputs=densenet.input,outputs = output)"
   ]
  },
  {
   "cell_type": "code",
   "execution_count": 9,
   "metadata": {},
   "outputs": [],
   "source": [
    "model.compile(loss='categorical_crossentropy',optimizer='rmsprop',metrics=['accuracy'])"
   ]
  },
  {
   "cell_type": "code",
   "execution_count": 10,
   "metadata": {},
   "outputs": [
    {
     "name": "stdout",
     "output_type": "stream",
     "text": [
      "Epoch 1/40\n",
      "82/82 [==============================] - 44s 454ms/step - loss: 2.8406 - accuracy: 0.0855 - val_loss: 2.7757 - val_accuracy: 0.1803\n",
      "Epoch 2/40\n",
      "82/82 [==============================] - 37s 448ms/step - loss: 2.6582 - accuracy: 0.1359 - val_loss: 2.4743 - val_accuracy: 0.2186\n",
      "Epoch 3/40\n",
      "82/82 [==============================] - 37s 453ms/step - loss: 2.4968 - accuracy: 0.1725 - val_loss: 2.3884 - val_accuracy: 0.2623\n",
      "Epoch 4/40\n",
      "82/82 [==============================] - 38s 459ms/step - loss: 2.3185 - accuracy: 0.2458 - val_loss: 2.1782 - val_accuracy: 0.2732\n",
      "Epoch 5/40\n",
      "82/82 [==============================] - 40s 485ms/step - loss: 2.1928 - accuracy: 0.2809 - val_loss: 2.1664 - val_accuracy: 0.2568\n",
      "Epoch 6/40\n",
      "82/82 [==============================] - 39s 474ms/step - loss: 2.0523 - accuracy: 0.3160 - val_loss: 1.8515 - val_accuracy: 0.3716\n",
      "Epoch 7/40\n",
      "82/82 [==============================] - 37s 456ms/step - loss: 1.9419 - accuracy: 0.3435 - val_loss: 1.9405 - val_accuracy: 0.3552\n",
      "Epoch 8/40\n",
      "82/82 [==============================] - 37s 455ms/step - loss: 1.8286 - accuracy: 0.3939 - val_loss: 1.5606 - val_accuracy: 0.4317\n",
      "Epoch 9/40\n",
      "82/82 [==============================] - 38s 465ms/step - loss: 1.6412 - accuracy: 0.4595 - val_loss: 1.3958 - val_accuracy: 0.5628\n",
      "Epoch 10/40\n",
      "82/82 [==============================] - 38s 463ms/step - loss: 1.5371 - accuracy: 0.5023 - val_loss: 1.3573 - val_accuracy: 0.5246\n",
      "Epoch 11/40\n",
      "82/82 [==============================] - 38s 465ms/step - loss: 1.4511 - accuracy: 0.5069 - val_loss: 1.4031 - val_accuracy: 0.5082\n",
      "Epoch 12/40\n",
      "82/82 [==============================] - 38s 467ms/step - loss: 1.3482 - accuracy: 0.5710 - val_loss: 1.1310 - val_accuracy: 0.6120\n",
      "Epoch 13/40\n",
      "82/82 [==============================] - 38s 466ms/step - loss: 1.2400 - accuracy: 0.5908 - val_loss: 1.0929 - val_accuracy: 0.6230\n",
      "Epoch 14/40\n",
      "82/82 [==============================] - 38s 465ms/step - loss: 1.1697 - accuracy: 0.6214 - val_loss: 0.9051 - val_accuracy: 0.7158\n",
      "Epoch 15/40\n",
      "82/82 [==============================] - 39s 476ms/step - loss: 1.0701 - accuracy: 0.6626 - val_loss: 0.9253 - val_accuracy: 0.7213\n",
      "Epoch 16/40\n",
      "82/82 [==============================] - 39s 478ms/step - loss: 0.9436 - accuracy: 0.7069 - val_loss: 1.0542 - val_accuracy: 0.6557\n",
      "Epoch 17/40\n",
      "82/82 [==============================] - 39s 474ms/step - loss: 0.9039 - accuracy: 0.7160 - val_loss: 0.8904 - val_accuracy: 0.6995\n",
      "Epoch 18/40\n",
      "82/82 [==============================] - 39s 473ms/step - loss: 0.8217 - accuracy: 0.7496 - val_loss: 0.4703 - val_accuracy: 0.8579\n",
      "Epoch 19/40\n",
      "82/82 [==============================] - 39s 472ms/step - loss: 0.7268 - accuracy: 0.7771 - val_loss: 0.5666 - val_accuracy: 0.8251\n",
      "Epoch 20/40\n",
      "82/82 [==============================] - 39s 474ms/step - loss: 0.7859 - accuracy: 0.7649 - val_loss: 0.3915 - val_accuracy: 0.8852\n",
      "Epoch 21/40\n",
      "82/82 [==============================] - 39s 480ms/step - loss: 0.6777 - accuracy: 0.7893 - val_loss: 0.7454 - val_accuracy: 0.7760\n",
      "Epoch 22/40\n",
      "82/82 [==============================] - 39s 474ms/step - loss: 0.5483 - accuracy: 0.8198 - val_loss: 0.3898 - val_accuracy: 0.8689\n",
      "Epoch 23/40\n",
      "82/82 [==============================] - 39s 476ms/step - loss: 0.6214 - accuracy: 0.8183 - val_loss: 0.2721 - val_accuracy: 0.9126\n",
      "Epoch 24/40\n",
      "82/82 [==============================] - 39s 472ms/step - loss: 0.5089 - accuracy: 0.8489 - val_loss: 0.3283 - val_accuracy: 0.8962\n",
      "Epoch 25/40\n",
      "82/82 [==============================] - 39s 473ms/step - loss: 0.4869 - accuracy: 0.8687 - val_loss: 0.2790 - val_accuracy: 0.9126\n",
      "Epoch 26/40\n",
      "82/82 [==============================] - 39s 473ms/step - loss: 0.5106 - accuracy: 0.8763 - val_loss: 0.6735 - val_accuracy: 0.8087\n",
      "Epoch 27/40\n",
      "82/82 [==============================] - 39s 473ms/step - loss: 0.3968 - accuracy: 0.8718 - val_loss: 1.4552 - val_accuracy: 0.6995\n",
      "Epoch 28/40\n",
      "82/82 [==============================] - 39s 476ms/step - loss: 0.3886 - accuracy: 0.8794 - val_loss: 0.2840 - val_accuracy: 0.8962\n",
      "Epoch 29/40\n",
      "82/82 [==============================] - 39s 477ms/step - loss: 0.4212 - accuracy: 0.8824 - val_loss: 0.1622 - val_accuracy: 0.9454\n",
      "Epoch 30/40\n",
      "82/82 [==============================] - 39s 478ms/step - loss: 0.3567 - accuracy: 0.9023 - val_loss: 0.6005 - val_accuracy: 0.8579\n",
      "Epoch 31/40\n",
      "82/82 [==============================] - 39s 475ms/step - loss: 0.3331 - accuracy: 0.9008 - val_loss: 0.1343 - val_accuracy: 0.9617\n",
      "Epoch 32/40\n",
      "82/82 [==============================] - 39s 474ms/step - loss: 0.2968 - accuracy: 0.9191 - val_loss: 0.4316 - val_accuracy: 0.8634\n",
      "Epoch 33/40\n",
      "82/82 [==============================] - 39s 477ms/step - loss: 0.3144 - accuracy: 0.9160 - val_loss: 0.1109 - val_accuracy: 0.9727\n",
      "Epoch 34/40\n",
      "82/82 [==============================] - 40s 485ms/step - loss: 0.3112 - accuracy: 0.9206 - val_loss: 0.3677 - val_accuracy: 0.9180\n",
      "Epoch 35/40\n",
      "82/82 [==============================] - 41s 501ms/step - loss: 0.2695 - accuracy: 0.9282 - val_loss: 0.0841 - val_accuracy: 0.9563\n",
      "Epoch 36/40\n",
      "82/82 [==============================] - 39s 477ms/step - loss: 0.3028 - accuracy: 0.9313 - val_loss: 0.0754 - val_accuracy: 0.9781\n",
      "Epoch 37/40\n",
      "82/82 [==============================] - 39s 476ms/step - loss: 0.2920 - accuracy: 0.9237 - val_loss: 0.1051 - val_accuracy: 0.9727\n",
      "Epoch 38/40\n",
      "82/82 [==============================] - 39s 477ms/step - loss: 0.2332 - accuracy: 0.9405 - val_loss: 0.0927 - val_accuracy: 0.9727\n",
      "Epoch 39/40\n",
      "82/82 [==============================] - 39s 480ms/step - loss: 0.3522 - accuracy: 0.9282 - val_loss: 0.1618 - val_accuracy: 0.9399\n",
      "Epoch 40/40\n",
      "82/82 [==============================] - 39s 481ms/step - loss: 0.2124 - accuracy: 0.9389 - val_loss: 0.0521 - val_accuracy: 0.9836\n"
     ]
    },
    {
     "data": {
      "text/plain": [
       "<keras.callbacks.History at 0x22e7818a250>"
      ]
     },
     "execution_count": 10,
     "metadata": {},
     "output_type": "execute_result"
    }
   ],
   "source": [
    "model.fit(train,validation_data=test,epochs=40,\n",
    "                    steps_per_epoch=len(train),\n",
    "                    validation_steps = len(test))"
   ]
  },
  {
   "cell_type": "code",
   "execution_count": 12,
   "metadata": {},
   "outputs": [],
   "source": [
    "# Save the trained model\n",
    "model.save('DenseNet121.h5')"
   ]
  },
  {
   "cell_type": "code",
   "execution_count": 13,
   "metadata": {},
   "outputs": [
    {
     "data": {
      "text/plain": [
       "{'Darier_s disease': 0,\n",
       " 'Muehrck-e_s lines': 1,\n",
       " 'aloperia areata': 2,\n",
       " 'beau_s lines': 3,\n",
       " 'bluish nail': 4,\n",
       " 'clubbing': 5,\n",
       " 'eczema': 6,\n",
       " 'half and half nailes (Lindsay_s nails)': 7,\n",
       " 'koilonychia': 8,\n",
       " 'leukonychia': 9,\n",
       " 'onycholycis': 10,\n",
       " 'pale nail': 11,\n",
       " 'red lunula': 12,\n",
       " 'splinter hemmorrage': 13,\n",
       " 'terry_s nail': 14,\n",
       " 'white nail': 15,\n",
       " 'yellow nails': 16}"
      ]
     },
     "execution_count": 13,
     "metadata": {},
     "output_type": "execute_result"
    }
   ],
   "source": [
    "train.class_indices"
   ]
  },
  {
   "cell_type": "code",
   "execution_count": 14,
   "metadata": {},
   "outputs": [],
   "source": [
    "#Testing\n",
    "import numpy as np\n",
    "from tensorflow.keras.preprocessing import image"
   ]
  },
  {
   "cell_type": "code",
   "execution_count": 15,
   "metadata": {},
   "outputs": [],
   "source": [
    "img=image.load_img('Dataset(original)/train/bluish nail/1.PNG',target_size=(224,224))"
   ]
  },
  {
   "cell_type": "code",
   "execution_count": 16,
   "metadata": {},
   "outputs": [
    {
     "name": "stdout",
     "output_type": "stream",
     "text": [
      "1/1 [==============================] - 1s 1s/step\n",
      "1/1 [==============================] - 0s 75ms/step\n",
      "terry_s nail_WhiteNails\n"
     ]
    }
   ],
   "source": [
    "img = image.img_to_array(img)\n",
    "img = np.expand_dims(img,axis=0)\n",
    "model.predict(img)\n",
    "pred = np.argmax(model.predict(img))\n",
    "output = ['Darier_s disease','Muehrck-e_s lines','Onychogryphosis','Onycholycis_NailPsoriasis',\n",
    "          'aloperia areata','beau_s lines','bluish nail', 'clubbing','eczema','half and half nailes (Lindsay_s nails)',\n",
    "          'koilonychia','leukonychia','pale nail','red lunula',\n",
    "          'splinter hemmorrage_Acral Lentiginous Melanoma',\n",
    "          'terry_s nail_WhiteNails','yellow nails']\n",
    "print(output[pred])"
   ]
  }
 ],
 "metadata": {
  "kernelspec": {
   "display_name": "Python 3",
   "language": "python",
   "name": "python3"
  },
  "language_info": {
   "codemirror_mode": {
    "name": "ipython",
    "version": 3
   },
   "file_extension": ".py",
   "mimetype": "text/x-python",
   "name": "python",
   "nbconvert_exporter": "python",
   "pygments_lexer": "ipython3",
   "version": "3.11.4"
  },
  "orig_nbformat": 4
 },
 "nbformat": 4,
 "nbformat_minor": 2
}
